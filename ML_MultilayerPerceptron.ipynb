{
  "nbformat": 4,
  "nbformat_minor": 0,
  "metadata": {
    "colab": {
      "provenance": [],
      "authorship_tag": "ABX9TyNOxRisKjoHw1rbHCeaCTCS",
      "include_colab_link": true
    },
    "kernelspec": {
      "name": "python3",
      "display_name": "Python 3"
    },
    "language_info": {
      "name": "python"
    }
  },
  "cells": [
    {
      "cell_type": "markdown",
      "metadata": {
        "id": "view-in-github",
        "colab_type": "text"
      },
      "source": [
        "<a href=\"https://colab.research.google.com/github/thummavaishnavi/Machine-Learning/blob/main/ML_MultilayerPerceptron.ipynb\" target=\"_parent\"><img src=\"https://colab.research.google.com/assets/colab-badge.svg\" alt=\"Open In Colab\"/></a>"
      ]
    },
    {
      "cell_type": "code",
      "execution_count": null,
      "metadata": {
        "id": "MrjFPAcRqmL7"
      },
      "outputs": [],
      "source": [
        "from sklearn.datasets import load_wine\n",
        "from sklearn.model_selection import train_test_split\n",
        "from sklearn.preprocessing import StandardScaler\n",
        "import numpy as np\n",
        "import pandas as pd\n",
        "from tensorflow import keras\n",
        "from tensorflow.keras import layers"
      ]
    },
    {
      "cell_type": "markdown",
      "source": [
        "- from sklearn.datasets import load_wine: This imports the load_wine function -from scikit-learn's datasets module, which allows us to load the Wine dataset.\n",
        "-from sklearn.model_selection import train_test_split: This imports the train_test_split function from scikit-learn's model_selection module, which helps us split the dataset into training and testing sets.\n",
        "-from sklearn.preprocessing import StandardScaler: This imports the StandardScaler class from scikit-learn's preprocessing module, which is used to standardize the dataset by removing the mean and scaling to unit variance.\n",
        "-import numpy as np: This imports the NumPy library, which provides support for large, multi-dimensional arrays and matrices, along with a collection of mathematical functions to operate on these arrays."
      ],
      "metadata": {
        "id": "HDSubss_q2lB"
      }
    },
    {
      "cell_type": "code",
      "source": [
        "# Load the wine dataset\n",
        "data = load_wine()"
      ],
      "metadata": {
        "id": "Bxi4aOBoq0QM"
      },
      "execution_count": null,
      "outputs": []
    },
    {
      "cell_type": "code",
      "execution_count": null,
      "metadata": {
        "id": "BekxlnYkLSWu",
        "colab": {
          "base_uri": "https://localhost:8080/"
        },
        "outputId": "305c9b13-a0e8-43c1-a785-a9ef7f36cb63"
      },
      "outputs": [
        {
          "output_type": "stream",
          "name": "stdout",
          "text": [
            "   alcohol  malic_acid   ash  alcalinity_of_ash  magnesium  total_phenols  \\\n",
            "0    14.23        1.71  2.43               15.6      127.0           2.80   \n",
            "1    13.20        1.78  2.14               11.2      100.0           2.65   \n",
            "2    13.16        2.36  2.67               18.6      101.0           2.80   \n",
            "3    14.37        1.95  2.50               16.8      113.0           3.85   \n",
            "4    13.24        2.59  2.87               21.0      118.0           2.80   \n",
            "\n",
            "   flavanoids  nonflavanoid_phenols  proanthocyanins  color_intensity   hue  \\\n",
            "0        3.06                  0.28             2.29             5.64  1.04   \n",
            "1        2.76                  0.26             1.28             4.38  1.05   \n",
            "2        3.24                  0.30             2.81             5.68  1.03   \n",
            "3        3.49                  0.24             2.18             7.80  0.86   \n",
            "4        2.69                  0.39             1.82             4.32  1.04   \n",
            "\n",
            "   od280/od315_of_diluted_wines  proline  \n",
            "0                          3.92   1065.0  \n",
            "1                          3.40   1050.0  \n",
            "2                          3.17   1185.0  \n",
            "3                          3.45   1480.0  \n",
            "4                          2.93    735.0  \n"
          ]
        }
      ],
      "source": [
        "data = pd.DataFrame(data.data, columns=data.feature_names)\n",
        "print(data.head())"
      ]
    },
    {
      "cell_type": "code",
      "source": [
        "#Splitting the dataset\n",
        "#This extracts the features (X) and target labels (y) from the loaded dataset.\n",
        "X, y = data.data, data.target\n",
        "# Split the dataset into training, validation, and test sets\n",
        "X_train, X_temp, y_train, y_temp = train_test_split(X, y, test_size=0.3, random_state=42) #training set\n",
        "X_val, X_test, y_val, y_test = train_test_split(X_temp, y_temp, test_size=0.5, random_state=42) #validation set"
      ],
      "metadata": {
        "id": "2QfHKNzYq5UZ"
      },
      "execution_count": null,
      "outputs": []
    },
    {
      "cell_type": "markdown",
      "source": [
        "-This splits the dataset into training and testing sets. Here, 30% of the data is reserved for testing, and random_state=42 sets a seed for reproducibility."
      ],
      "metadata": {
        "id": "AhW4BGZXrDrM"
      }
    },
    {
      "cell_type": "code",
      "source": [
        "print(data.target)"
      ],
      "metadata": {
        "colab": {
          "base_uri": "https://localhost:8080/"
        },
        "id": "ASRfbu1QrF9k",
        "outputId": "22dbe57d-0911-4d6b-8df4-45c5b450a132"
      },
      "execution_count": null,
      "outputs": [
        {
          "output_type": "stream",
          "name": "stdout",
          "text": [
            "[0 0 0 0 0 0 0 0 0 0 0 0 0 0 0 0 0 0 0 0 0 0 0 0 0 0 0 0 0 0 0 0 0 0 0 0 0\n",
            " 0 0 0 0 0 0 0 0 0 0 0 0 0 0 0 0 0 0 0 0 0 0 1 1 1 1 1 1 1 1 1 1 1 1 1 1 1\n",
            " 1 1 1 1 1 1 1 1 1 1 1 1 1 1 1 1 1 1 1 1 1 1 1 1 1 1 1 1 1 1 1 1 1 1 1 1 1\n",
            " 1 1 1 1 1 1 1 1 1 1 1 1 1 1 1 1 1 1 1 2 2 2 2 2 2 2 2 2 2 2 2 2 2 2 2 2 2\n",
            " 2 2 2 2 2 2 2 2 2 2 2 2 2 2 2 2 2 2 2 2 2 2 2 2 2 2 2 2 2 2]\n"
          ]
        }
      ]
    },
    {
      "cell_type": "code",
      "source": [
        "# Standardize the data\n",
        "scaler = StandardScaler()\n",
        "X_train = scaler.fit_transform(X_train)\n",
        "X_val = scaler.transform(X_val)\n",
        "X_test = scaler.transform(X_test)"
      ],
      "metadata": {
        "id": "re54hqQXrHxb"
      },
      "execution_count": null,
      "outputs": []
    },
    {
      "cell_type": "markdown",
      "source": [
        "- scaler = StandardScaler(): This initializes a StandardScaler object.\n",
        "- X_train = scaler.fit_transform(X_train): This standardizes the training features using the fit_transform method, which computes the mean and standard deviation of each feature and then scales the features.\n",
        "- X_val = scaler.transform(X_val): This standardizes the validation features using the previously computed mean and standard deviation from the training set.\n",
        "- X_test = scaler.transform(X_test): This standardizes the test features using the same mean and standard deviation computed from the training set."
      ],
      "metadata": {
        "id": "yvV3PcEFrahY"
      }
    },
    {
      "cell_type": "code",
      "source": [
        "# Defining the model architecture\n",
        "model = keras.Sequential([\n",
        "    layers.Dense(64, activation=\"relu\", input_dim=X.shape[1]),  # Hidden layer with 64 neurons and ReLU activation\n",
        "    layers.Dense(32, activation=\"relu\"),                        # Another hidden layer with 32 neurons and ReLU activation\n",
        "    layers.Dense(3, activation=\"softmax\")                       # Output layer with softmax activation for multiclass classification\n",
        "])"
      ],
      "metadata": {
        "id": "cBNd4YW9rKOV"
      },
      "execution_count": null,
      "outputs": []
    },
    {
      "cell_type": "markdown",
      "source": [
        "- This defines a sequential model using Keras. We define three layers: two hidden layers with 64 and 32 neurons respectively, and an output layer with 3 neurons (one for each class in the dataset) using softmax activation."
      ],
      "metadata": {
        "id": "LqInaxoMrgV_"
      }
    },
    {
      "cell_type": "code",
      "source": [
        "# Compile the model\n",
        "model.compile(optimizer=\"adam\", loss=\"sparse_categorical_crossentropy\", metrics=[\"accuracy\"]) #Adam is an optimization algorithm that adapts the learning rate during training"
      ],
      "metadata": {
        "id": "3XNSzMmirkei"
      },
      "execution_count": null,
      "outputs": []
    },
    {
      "cell_type": "markdown",
      "source": [
        "- This compiles the model. We specify the Adam optimizer, sparse categorical cross-entropy loss function (suitable for multiclass classification tasks), and accuracy as the evaluation metric."
      ],
      "metadata": {
        "id": "ja0GpFQZrnXv"
      }
    },
    {
      "cell_type": "code",
      "source": [
        "# Train the model\n",
        "model.fit(X_train, y_train, epochs=10, validation_data=(X_val, y_val))"
      ],
      "metadata": {
        "colab": {
          "base_uri": "https://localhost:8080/"
        },
        "id": "Ae0104mErvce",
        "outputId": "b05351bc-d2ef-47d9-95ef-3ce5b4274ebd"
      },
      "execution_count": null,
      "outputs": [
        {
          "output_type": "stream",
          "name": "stdout",
          "text": [
            "Epoch 1/10\n",
            "4/4 [==============================] - 1s 80ms/step - loss: 1.0729 - accuracy: 0.3710 - val_loss: 0.9974 - val_accuracy: 0.4444\n",
            "Epoch 2/10\n",
            "4/4 [==============================] - 0s 12ms/step - loss: 0.9357 - accuracy: 0.4113 - val_loss: 0.8690 - val_accuracy: 0.5556\n",
            "Epoch 3/10\n",
            "4/4 [==============================] - 0s 13ms/step - loss: 0.8216 - accuracy: 0.6129 - val_loss: 0.7645 - val_accuracy: 0.8148\n",
            "Epoch 4/10\n",
            "4/4 [==============================] - 0s 13ms/step - loss: 0.7277 - accuracy: 0.8468 - val_loss: 0.6777 - val_accuracy: 0.9630\n",
            "Epoch 5/10\n",
            "4/4 [==============================] - 0s 12ms/step - loss: 0.6485 - accuracy: 0.9274 - val_loss: 0.5998 - val_accuracy: 0.9630\n",
            "Epoch 6/10\n",
            "4/4 [==============================] - 0s 12ms/step - loss: 0.5771 - accuracy: 0.9758 - val_loss: 0.5302 - val_accuracy: 0.9630\n",
            "Epoch 7/10\n",
            "4/4 [==============================] - 0s 11ms/step - loss: 0.5085 - accuracy: 0.9758 - val_loss: 0.4670 - val_accuracy: 1.0000\n",
            "Epoch 8/10\n",
            "4/4 [==============================] - 0s 13ms/step - loss: 0.4489 - accuracy: 0.9758 - val_loss: 0.4089 - val_accuracy: 1.0000\n",
            "Epoch 9/10\n",
            "4/4 [==============================] - 0s 11ms/step - loss: 0.3937 - accuracy: 0.9839 - val_loss: 0.3580 - val_accuracy: 1.0000\n",
            "Epoch 10/10\n",
            "4/4 [==============================] - 0s 11ms/step - loss: 0.3450 - accuracy: 0.9839 - val_loss: 0.3124 - val_accuracy: 1.0000\n"
          ]
        },
        {
          "output_type": "execute_result",
          "data": {
            "text/plain": [
              "<keras.src.callbacks.History at 0x79ba4cfdb0a0>"
            ]
          },
          "metadata": {},
          "execution_count": 12
        }
      ]
    },
    {
      "cell_type": "markdown",
      "source": [
        "- This trains the model on the training data for 10 epochs, using the validation data for validation during training."
      ],
      "metadata": {
        "id": "cCG_sbPErzLi"
      }
    },
    {
      "cell_type": "code",
      "source": [
        "# Evaluate the model on the test set\n",
        "test_loss, test_acc = model.evaluate(X_test, y_test)\n",
        "print(f\"Test accuracy: {test_acc:.3f}\")"
      ],
      "metadata": {
        "colab": {
          "base_uri": "https://localhost:8080/"
        },
        "id": "mlTLF-m4r1kk",
        "outputId": "eb421981-77a1-45a5-9da1-fbe567365d33"
      },
      "execution_count": null,
      "outputs": [
        {
          "output_type": "stream",
          "name": "stdout",
          "text": [
            "1/1 [==============================] - 0s 25ms/step - loss: 0.3265 - accuracy: 1.0000\n",
            "Test accuracy: 1.000\n"
          ]
        }
      ]
    },
    {
      "cell_type": "markdown",
      "source": [
        "-  This evaluates the trained model on the test data and computes the test loss and accuracy."
      ],
      "metadata": {
        "id": "K-DIcL7Dr_am"
      }
    },
    {
      "cell_type": "code",
      "source": [
        "# Make predictions on new data\n",
        "X_new = np.array([\n",
        "    [13.71, 1.86, 2.36, 16.6, 101.2, 2.61, 2.88, 0.27, 1.69, 3.8, 1.11, 4.0, 1035],\n",
        "    [13.56, 1.73, 2.46, 20.5, 116.0, 2.96, 2.78, 0.2, 2.45, 6.25, 0.98, 3.03, 1120]\n",
        "])\n",
        "predictions = model.predict(X_new)\n",
        "print(\"Predictions:\")\n",
        "for i, pred in enumerate(predictions):\n",
        "    print(f\"Sample {i+1}: {pred}\")"
      ],
      "metadata": {
        "colab": {
          "base_uri": "https://localhost:8080/"
        },
        "id": "-9wTlLlJsCWm",
        "outputId": "152c1dcd-586e-4620-bc55-31e1cc000711"
      },
      "execution_count": null,
      "outputs": [
        {
          "output_type": "stream",
          "name": "stdout",
          "text": [
            "1/1 [==============================] - 0s 92ms/step\n",
            "Predictions:\n",
            "Sample 1: [1.0000000e+00 4.3009398e-19 0.0000000e+00]\n",
            "Sample 2: [1.0000000e+00 1.5378171e-20 0.0000000e+00]\n"
          ]
        }
      ]
    },
    {
      "cell_type": "markdown",
      "source": [
        "- predictions = model.predict(X_new): This makes predictions on new data (X_new) using the trained model.\n",
        "The print(\"Predictions:\") line prints a header for the predictions.\n",
        "for i, pred in enumerate(predictions): print(f\"Sample {i+1}: {pred}\"): This iterates over the predictions and prints the predicted probabilities for each sample in X_new."
      ],
      "metadata": {
        "id": "quQMJz0wsIhZ"
      }
    }
  ]
}